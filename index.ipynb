{
 "cells": [
  {
   "cell_type": "markdown",
   "metadata": {},
   "source": [
    "# Evaluating Regression Lines Lab"
   ]
  },
  {
   "cell_type": "markdown",
   "metadata": {},
   "source": [
    "### Introduction"
   ]
  },
  {
   "cell_type": "markdown",
   "metadata": {},
   "source": [
    "In the previous lesson, we learned to evaluate how well a regression line estimated our actual data.  In this lab, we will turn these formulas into code.  In doing so, we'll build lots of useful functions for both calculating and displaying our errors for a given regression line and dataset."
   ]
  },
  {
   "cell_type": "markdown",
   "metadata": {},
   "source": [
    "### Determining Quality"
   ]
  },
  {
   "cell_type": "markdown",
   "metadata": {},
   "source": [
    "In the file, `movie_data.py` you will find movie data written as a python list of dictionaries, with each dictionary representing a movie.  The movies are derived from the first 30 entries from the 538 dataset [provided here](https://raw.githubusercontent.com/fivethirtyeight/data/master/bechdel/movies.csv)."
   ]
  },
  {
   "cell_type": "code",
   "execution_count": 1,
   "metadata": {
    "scrolled": true
   },
   "outputs": [
    {
     "data": {
      "text/plain": [
       "30"
      ]
     },
     "execution_count": 1,
     "metadata": {},
     "output_type": "execute_result"
    }
   ],
   "source": [
    "from movie_data import movies \n",
    "len(movies)"
   ]
  },
  {
   "cell_type": "markdown",
   "metadata": {},
   "source": [
    "> Press shift + enter"
   ]
  },
  {
   "cell_type": "code",
   "execution_count": 2,
   "metadata": {},
   "outputs": [
    {
     "data": {
      "text/plain": [
       "{'budget': 13000000, 'domgross': 25682380.0, 'title': '21 &amp; Over'}"
      ]
     },
     "execution_count": 2,
     "metadata": {},
     "output_type": "execute_result"
    }
   ],
   "source": [
    "movies[0]"
   ]
  },
  {
   "cell_type": "markdown",
   "metadata": {
    "collapsed": true
   },
   "source": [
    "Note that, like in previous lessons, we are still our budget is our explanatory value and our revenue is our dependent variable.  Here revenue is represented as the key `domgross`.  \n",
    "\n",
    "#### Plotting our data\n",
    "\n",
    "Let's write the code to plot this data set.\n",
    "\n",
    "As a first task, convert the budget values to `x_values`, and convert the domgross values to `y_values`."
   ]
  },
  {
   "cell_type": "code",
   "execution_count": 5,
   "metadata": {
    "collapsed": true
   },
   "outputs": [],
   "source": [
    "x_values = list(map(lambda movie: movie['budget'], movies))\n",
    "y_values = list(map(lambda movie: movie['domgross'], movies))"
   ]
  },
  {
   "cell_type": "code",
   "execution_count": 6,
   "metadata": {},
   "outputs": [
    {
     "data": {
      "text/plain": [
       "13000000"
      ]
     },
     "execution_count": 6,
     "metadata": {},
     "output_type": "execute_result"
    }
   ],
   "source": [
    "x_values[0] # 13000000"
   ]
  },
  {
   "cell_type": "code",
   "execution_count": 7,
   "metadata": {},
   "outputs": [
    {
     "data": {
      "text/plain": [
       "25682380.0"
      ]
     },
     "execution_count": 7,
     "metadata": {},
     "output_type": "execute_result"
    }
   ],
   "source": [
    "y_values[0]"
   ]
  },
  {
   "cell_type": "markdown",
   "metadata": {},
   "source": [
    "Assign a variable called `titles` equal to the titles of the movies."
   ]
  },
  {
   "cell_type": "code",
   "execution_count": 8,
   "metadata": {
    "collapsed": true
   },
   "outputs": [],
   "source": [
    "titles = list(map(lambda movie: movie['title'], movies))"
   ]
  },
  {
   "cell_type": "code",
   "execution_count": 9,
   "metadata": {},
   "outputs": [
    {
     "data": {
      "text/plain": [
       "'21 &amp; Over'"
      ]
     },
     "execution_count": 9,
     "metadata": {},
     "output_type": "execute_result"
    }
   ],
   "source": [
    "titles[0]"
   ]
  },
  {
   "cell_type": "markdown",
   "metadata": {},
   "source": [
    "Great! Now we have the data necessary to make a trace of our data."
   ]
  },
  {
   "cell_type": "code",
   "execution_count": 12,
   "metadata": {},
   "outputs": [
    {
     "data": {
      "text/html": [
       "<script>requirejs.config({paths: { 'plotly': ['https://cdn.plot.ly/plotly-latest.min']},});if(!window.Plotly) {{require(['plotly'],function(plotly) {window.Plotly=plotly;});}}</script>"
      ],
      "text/vnd.plotly.v1+html": [
       "<script>requirejs.config({paths: { 'plotly': ['https://cdn.plot.ly/plotly-latest.min']},});if(!window.Plotly) {{require(['plotly'],function(plotly) {window.Plotly=plotly;});}}</script>"
      ]
     },
     "metadata": {},
     "output_type": "display_data"
    },
    {
     "data": {
      "application/vnd.plotly.v1+json": {
       "data": [
        {
         "mode": "markers",
         "name": "movie data",
         "text": [
          "21 &amp; Over",
          "Dredd 3D",
          "12 Years a Slave",
          "2 Guns",
          "42",
          "47 Ronin",
          "A Good Day to Die Hard",
          "About Time",
          "Admission",
          "After Earth",
          "American Hustle",
          "August: Osage County",
          "Beautiful Creatures",
          "Blue Jasmine",
          "Captain Phillips",
          "Carrie",
          "Cloudy with a Chance of Meatballs 2",
          "Despicable Me 2",
          "Don Jon",
          "Elysium",
          "Ender&#39;s Game",
          "Epic",
          "Escape from Planet Earth",
          "Escape Plan",
          "Evil Dead",
          "Fast and Furious 6",
          "Frozen",
          "G.I. Joe: Retaliation",
          "Gangster Squad",
          "Gloria"
         ],
         "x": [
          13000000,
          45658735,
          20000000,
          61000000,
          40000000,
          225000000,
          92000000,
          12000000,
          13000000,
          130000000,
          40000000,
          25000000,
          50000000,
          18000000,
          55000000,
          30000000,
          78000000,
          76000000,
          5500000,
          120000000,
          110000000,
          100000000,
          40000000,
          70000000,
          17000000,
          160000000,
          150000000,
          140000000,
          60000000,
          30000000
         ],
         "y": [
          25682380,
          13414714,
          53107035,
          75612460,
          95020213,
          38362475,
          67349198,
          15323921,
          18007317,
          60522097,
          148430908,
          37304874,
          19452138,
          33345833,
          107136417,
          35266619,
          119640264,
          368065385,
          24477704,
          93050117,
          61737191,
          107518682,
          57012977,
          25213103,
          54239856,
          238679850,
          393050114,
          122523060,
          46000903,
          4167493
         ]
        }
       ],
       "layout": {}
      },
      "text/html": [
       "<div id=\"fa7469f3-8f15-46ed-b8f3-4abd28edfa0e\" style=\"height: 525px; width: 100%;\" class=\"plotly-graph-div\"></div><script type=\"text/javascript\">require([\"plotly\"], function(Plotly) { window.PLOTLYENV=window.PLOTLYENV || {};window.PLOTLYENV.BASE_URL=\"https://plot.ly\";Plotly.newPlot(\"fa7469f3-8f15-46ed-b8f3-4abd28edfa0e\", [{\"x\": [13000000, 45658735, 20000000, 61000000, 40000000, 225000000, 92000000, 12000000, 13000000, 130000000, 40000000, 25000000, 50000000, 18000000, 55000000, 30000000, 78000000, 76000000, 5500000, 120000000, 110000000, 100000000, 40000000, 70000000, 17000000, 160000000, 150000000, 140000000, 60000000, 30000000], \"y\": [25682380.0, 13414714.0, 53107035.0, 75612460.0, 95020213.0, 38362475.0, 67349198.0, 15323921.0, 18007317.0, 60522097.0, 148430908.0, 37304874.0, 19452138.0, 33345833.0, 107136417.0, 35266619.0, 119640264.0, 368065385.0, 24477704.0, 93050117.0, 61737191.0, 107518682.0, 57012977.0, 25213103.0, 54239856.0, 238679850.0, 393050114.0, 122523060.0, 46000903.0, 4167493.0], \"mode\": \"markers\", \"name\": \"movie data\", \"text\": [\"21 &amp; Over\", \"Dredd 3D\", \"12 Years a Slave\", \"2 Guns\", \"42\", \"47 Ronin\", \"A Good Day to Die Hard\", \"About Time\", \"Admission\", \"After Earth\", \"American Hustle\", \"August: Osage County\", \"Beautiful Creatures\", \"Blue Jasmine\", \"Captain Phillips\", \"Carrie\", \"Cloudy with a Chance of Meatballs 2\", \"Despicable Me 2\", \"Don Jon\", \"Elysium\", \"Ender&#39;s Game\", \"Epic\", \"Escape from Planet Earth\", \"Escape Plan\", \"Evil Dead\", \"Fast and Furious 6\", \"Frozen\", \"G.I. Joe: Retaliation\", \"Gangster Squad\", \"Gloria\"]}], {}, {\"showLink\": true, \"linkText\": \"Export to plot.ly\"})});</script>"
      ],
      "text/vnd.plotly.v1+html": [
       "<div id=\"fa7469f3-8f15-46ed-b8f3-4abd28edfa0e\" style=\"height: 525px; width: 100%;\" class=\"plotly-graph-div\"></div><script type=\"text/javascript\">require([\"plotly\"], function(Plotly) { window.PLOTLYENV=window.PLOTLYENV || {};window.PLOTLYENV.BASE_URL=\"https://plot.ly\";Plotly.newPlot(\"fa7469f3-8f15-46ed-b8f3-4abd28edfa0e\", [{\"x\": [13000000, 45658735, 20000000, 61000000, 40000000, 225000000, 92000000, 12000000, 13000000, 130000000, 40000000, 25000000, 50000000, 18000000, 55000000, 30000000, 78000000, 76000000, 5500000, 120000000, 110000000, 100000000, 40000000, 70000000, 17000000, 160000000, 150000000, 140000000, 60000000, 30000000], \"y\": [25682380.0, 13414714.0, 53107035.0, 75612460.0, 95020213.0, 38362475.0, 67349198.0, 15323921.0, 18007317.0, 60522097.0, 148430908.0, 37304874.0, 19452138.0, 33345833.0, 107136417.0, 35266619.0, 119640264.0, 368065385.0, 24477704.0, 93050117.0, 61737191.0, 107518682.0, 57012977.0, 25213103.0, 54239856.0, 238679850.0, 393050114.0, 122523060.0, 46000903.0, 4167493.0], \"mode\": \"markers\", \"name\": \"movie data\", \"text\": [\"21 &amp; Over\", \"Dredd 3D\", \"12 Years a Slave\", \"2 Guns\", \"42\", \"47 Ronin\", \"A Good Day to Die Hard\", \"About Time\", \"Admission\", \"After Earth\", \"American Hustle\", \"August: Osage County\", \"Beautiful Creatures\", \"Blue Jasmine\", \"Captain Phillips\", \"Carrie\", \"Cloudy with a Chance of Meatballs 2\", \"Despicable Me 2\", \"Don Jon\", \"Elysium\", \"Ender&#39;s Game\", \"Epic\", \"Escape from Planet Earth\", \"Escape Plan\", \"Evil Dead\", \"Fast and Furious 6\", \"Frozen\", \"G.I. Joe: Retaliation\", \"Gangster Squad\", \"Gloria\"]}], {}, {\"showLink\": true, \"linkText\": \"Export to plot.ly\"})});</script>"
      ]
     },
     "metadata": {},
     "output_type": "display_data"
    }
   ],
   "source": [
    "from plotly.offline import iplot, init_notebook_mode\n",
    "init_notebook_mode(connected=True)\n",
    "from graph import trace_values, plot\n",
    "\n",
    "movies_trace = trace_values(x_values, y_values, text=titles, name='movie data')\n",
    "\n",
    "plot([movies_trace])"
   ]
  },
  {
   "cell_type": "markdown",
   "metadata": {},
   "source": [
    "#### Plotting a regression line"
   ]
  },
  {
   "cell_type": "markdown",
   "metadata": {},
   "source": [
    "Now let's add a regression line to make a prediction of output (revenue) based on an input (the budget).  We'll use the following regression formula:"
   ]
  },
  {
   "cell_type": "markdown",
   "metadata": {},
   "source": [
    "* $\\overline{y} = \\overline{m} x + \\overline{b}$, with $\\overline{m} = 1.7$, and $\\overline{b} = 100,000$. \n",
    "\n",
    "\n",
    "* $\\overline{y} = 1.7x + 100,000$\n",
    "\n",
    "Write a function called `regression_formula` that calculates our $\\overline{y}$ for any provided value of $x$. "
   ]
  },
  {
   "cell_type": "code",
   "execution_count": 13,
   "metadata": {
    "collapsed": true
   },
   "outputs": [],
   "source": [
    "def regression_formula(x):\n",
    "    return 100000 + 1.7*x"
   ]
  },
  {
   "cell_type": "markdown",
   "metadata": {},
   "source": [
    "Check to see that the regression formula generates the correct outputs."
   ]
  },
  {
   "cell_type": "code",
   "execution_count": 15,
   "metadata": {},
   "outputs": [
    {
     "data": {
      "text/plain": [
       "525000.0"
      ]
     },
     "execution_count": 15,
     "metadata": {},
     "output_type": "execute_result"
    }
   ],
   "source": [
    "regression_formula(100000) # 270000.0\n",
    "regression_formula(250000) # 525000.0"
   ]
  },
  {
   "cell_type": "markdown",
   "metadata": {},
   "source": [
    "Let's plot the data as well as the regression line to get a sense of what we are looking at."
   ]
  },
  {
   "cell_type": "code",
   "execution_count": 15,
   "metadata": {},
   "outputs": [
    {
     "data": {
      "text/html": [
       "<script>requirejs.config({paths: { 'plotly': ['https://cdn.plot.ly/plotly-latest.min']},});if(!window.Plotly) {{require(['plotly'],function(plotly) {window.Plotly=plotly;});}}</script>"
      ],
      "text/vnd.plotly.v1+html": [
       "<script>requirejs.config({paths: { 'plotly': ['https://cdn.plot.ly/plotly-latest.min']},});if(!window.Plotly) {{require(['plotly'],function(plotly) {window.Plotly=plotly;});}}</script>"
      ]
     },
     "metadata": {},
     "output_type": "display_data"
    },
    {
     "data": {
      "application/vnd.plotly.v1+json": {
       "data": [
        {
         "mode": "markers",
         "name": "movie data",
         "text": [
          "21 &amp; Over",
          "Dredd 3D",
          "12 Years a Slave",
          "2 Guns",
          "42",
          "47 Ronin",
          "A Good Day to Die Hard",
          "About Time",
          "Admission",
          "After Earth",
          "American Hustle",
          "August: Osage County",
          "Beautiful Creatures",
          "Blue Jasmine",
          "Captain Phillips",
          "Carrie",
          "Cloudy with a Chance of Meatballs 2",
          "Despicable Me 2",
          "Don Jon",
          "Elysium",
          "Ender&#39;s Game",
          "Epic",
          "Escape from Planet Earth",
          "Escape Plan",
          "Evil Dead",
          "Fast and Furious 6",
          "Frozen",
          "G.I. Joe: Retaliation",
          "Gangster Squad",
          "Gloria"
         ],
         "x": [
          13000000,
          45658735,
          20000000,
          61000000,
          40000000,
          225000000,
          92000000,
          12000000,
          13000000,
          130000000,
          40000000,
          25000000,
          50000000,
          18000000,
          55000000,
          30000000,
          78000000,
          76000000,
          5500000,
          120000000,
          110000000,
          100000000,
          40000000,
          70000000,
          17000000,
          160000000,
          150000000,
          140000000,
          60000000,
          30000000
         ],
         "y": [
          25682380,
          13414714,
          53107035,
          75612460,
          95020213,
          38362475,
          67349198,
          15323921,
          18007317,
          60522097,
          148430908,
          37304874,
          19452138,
          33345833,
          107136417,
          35266619,
          119640264,
          368065385,
          24477704,
          93050117,
          61737191,
          107518682,
          57012977,
          25213103,
          54239856,
          238679850,
          393050114,
          122523060,
          46000903,
          4167493
         ]
        },
        {
         "mode": "line",
         "name": "estimated revenue",
         "x": [
          13000000,
          45658735,
          20000000,
          61000000,
          40000000,
          225000000,
          92000000,
          12000000,
          13000000,
          130000000,
          40000000,
          25000000,
          50000000,
          18000000,
          55000000,
          30000000,
          78000000,
          76000000,
          5500000,
          120000000,
          110000000,
          100000000,
          40000000,
          70000000,
          17000000,
          160000000,
          150000000,
          140000000,
          60000000,
          30000000
         ],
         "y": [
          22200000,
          77719849.5,
          34100000,
          103800000,
          68100000,
          382600000,
          156500000,
          20500000,
          22200000,
          221100000,
          68100000,
          42600000,
          85100000,
          30700000,
          93600000,
          51100000,
          132700000,
          129300000,
          9450000,
          204100000,
          187100000,
          170100000,
          68100000,
          119100000,
          29000000,
          272100000,
          255100000,
          238100000,
          102100000,
          51100000
         ]
        }
       ],
       "layout": {}
      },
      "text/html": [
       "<div id=\"f7349c8d-6b7a-42db-a615-5e07594f9f47\" style=\"height: 525px; width: 100%;\" class=\"plotly-graph-div\"></div><script type=\"text/javascript\">require([\"plotly\"], function(Plotly) { window.PLOTLYENV=window.PLOTLYENV || {};window.PLOTLYENV.BASE_URL=\"https://plot.ly\";Plotly.newPlot(\"f7349c8d-6b7a-42db-a615-5e07594f9f47\", [{\"x\": [13000000, 45658735, 20000000, 61000000, 40000000, 225000000, 92000000, 12000000, 13000000, 130000000, 40000000, 25000000, 50000000, 18000000, 55000000, 30000000, 78000000, 76000000, 5500000, 120000000, 110000000, 100000000, 40000000, 70000000, 17000000, 160000000, 150000000, 140000000, 60000000, 30000000], \"y\": [25682380.0, 13414714.0, 53107035.0, 75612460.0, 95020213.0, 38362475.0, 67349198.0, 15323921.0, 18007317.0, 60522097.0, 148430908.0, 37304874.0, 19452138.0, 33345833.0, 107136417.0, 35266619.0, 119640264.0, 368065385.0, 24477704.0, 93050117.0, 61737191.0, 107518682.0, 57012977.0, 25213103.0, 54239856.0, 238679850.0, 393050114.0, 122523060.0, 46000903.0, 4167493.0], \"mode\": \"markers\", \"name\": \"movie data\", \"text\": [\"21 &amp; Over\", \"Dredd 3D\", \"12 Years a Slave\", \"2 Guns\", \"42\", \"47 Ronin\", \"A Good Day to Die Hard\", \"About Time\", \"Admission\", \"After Earth\", \"American Hustle\", \"August: Osage County\", \"Beautiful Creatures\", \"Blue Jasmine\", \"Captain Phillips\", \"Carrie\", \"Cloudy with a Chance of Meatballs 2\", \"Despicable Me 2\", \"Don Jon\", \"Elysium\", \"Ender&#39;s Game\", \"Epic\", \"Escape from Planet Earth\", \"Escape Plan\", \"Evil Dead\", \"Fast and Furious 6\", \"Frozen\", \"G.I. Joe: Retaliation\", \"Gangster Squad\", \"Gloria\"]}, {\"x\": [13000000, 45658735, 20000000, 61000000, 40000000, 225000000, 92000000, 12000000, 13000000, 130000000, 40000000, 25000000, 50000000, 18000000, 55000000, 30000000, 78000000, 76000000, 5500000, 120000000, 110000000, 100000000, 40000000, 70000000, 17000000, 160000000, 150000000, 140000000, 60000000, 30000000], \"y\": [22200000.0, 77719849.5, 34100000.0, 103800000.0, 68100000.0, 382600000.0, 156500000.0, 20500000.0, 22200000.0, 221100000.0, 68100000.0, 42600000.0, 85100000.0, 30700000.0, 93600000.0, 51100000.0, 132700000.0, 129300000.0, 9450000.0, 204100000.0, 187100000.0, 170100000.0, 68100000.0, 119100000.0, 29000000.0, 272100000.0, 255100000.0, 238100000.0, 102100000.0, 51100000.0], \"mode\": \"line\", \"name\": \"estimated revenue\"}], {}, {\"showLink\": true, \"linkText\": \"Export to plot.ly\"})});</script>"
      ],
      "text/vnd.plotly.v1+html": [
       "<div id=\"f7349c8d-6b7a-42db-a615-5e07594f9f47\" style=\"height: 525px; width: 100%;\" class=\"plotly-graph-div\"></div><script type=\"text/javascript\">require([\"plotly\"], function(Plotly) { window.PLOTLYENV=window.PLOTLYENV || {};window.PLOTLYENV.BASE_URL=\"https://plot.ly\";Plotly.newPlot(\"f7349c8d-6b7a-42db-a615-5e07594f9f47\", [{\"x\": [13000000, 45658735, 20000000, 61000000, 40000000, 225000000, 92000000, 12000000, 13000000, 130000000, 40000000, 25000000, 50000000, 18000000, 55000000, 30000000, 78000000, 76000000, 5500000, 120000000, 110000000, 100000000, 40000000, 70000000, 17000000, 160000000, 150000000, 140000000, 60000000, 30000000], \"y\": [25682380.0, 13414714.0, 53107035.0, 75612460.0, 95020213.0, 38362475.0, 67349198.0, 15323921.0, 18007317.0, 60522097.0, 148430908.0, 37304874.0, 19452138.0, 33345833.0, 107136417.0, 35266619.0, 119640264.0, 368065385.0, 24477704.0, 93050117.0, 61737191.0, 107518682.0, 57012977.0, 25213103.0, 54239856.0, 238679850.0, 393050114.0, 122523060.0, 46000903.0, 4167493.0], \"mode\": \"markers\", \"name\": \"movie data\", \"text\": [\"21 &amp; Over\", \"Dredd 3D\", \"12 Years a Slave\", \"2 Guns\", \"42\", \"47 Ronin\", \"A Good Day to Die Hard\", \"About Time\", \"Admission\", \"After Earth\", \"American Hustle\", \"August: Osage County\", \"Beautiful Creatures\", \"Blue Jasmine\", \"Captain Phillips\", \"Carrie\", \"Cloudy with a Chance of Meatballs 2\", \"Despicable Me 2\", \"Don Jon\", \"Elysium\", \"Ender&#39;s Game\", \"Epic\", \"Escape from Planet Earth\", \"Escape Plan\", \"Evil Dead\", \"Fast and Furious 6\", \"Frozen\", \"G.I. Joe: Retaliation\", \"Gangster Squad\", \"Gloria\"]}, {\"x\": [13000000, 45658735, 20000000, 61000000, 40000000, 225000000, 92000000, 12000000, 13000000, 130000000, 40000000, 25000000, 50000000, 18000000, 55000000, 30000000, 78000000, 76000000, 5500000, 120000000, 110000000, 100000000, 40000000, 70000000, 17000000, 160000000, 150000000, 140000000, 60000000, 30000000], \"y\": [22200000.0, 77719849.5, 34100000.0, 103800000.0, 68100000.0, 382600000.0, 156500000.0, 20500000.0, 22200000.0, 221100000.0, 68100000.0, 42600000.0, 85100000.0, 30700000.0, 93600000.0, 51100000.0, 132700000.0, 129300000.0, 9450000.0, 204100000.0, 187100000.0, 170100000.0, 68100000.0, 119100000.0, 29000000.0, 272100000.0, 255100000.0, 238100000.0, 102100000.0, 51100000.0], \"mode\": \"line\", \"name\": \"estimated revenue\"}], {}, {\"showLink\": true, \"linkText\": \"Export to plot.ly\"})});</script>"
      ]
     },
     "metadata": {},
     "output_type": "display_data"
    }
   ],
   "source": [
    "from plotly.offline import iplot, init_notebook_mode\n",
    "init_notebook_mode(connected=True)\n",
    "\n",
    "from graph import trace_values, m_b_trace, plot\n",
    "movies_trace = trace_values(x_values, y_values, text=titles, name='movie data')\n",
    "\n",
    "regression_trace = m_b_trace(1.7, 100000, x_values, name='estimated revenue')\n",
    "plot([movies_trace, regression_trace])"
   ]
  },
  {
   "cell_type": "markdown",
   "metadata": {},
   "source": [
    "### Calculating errors of a regression Line"
   ]
  },
  {
   "cell_type": "markdown",
   "metadata": {},
   "source": [
    "Now that we have our regression formula, we can move towards calculating the error."
   ]
  },
  {
   "cell_type": "code",
   "execution_count": 21,
   "metadata": {
    "collapsed": true
   },
   "outputs": [],
   "source": [
    "def y_actual(x, x_values, y_values):\n",
    "    combined_values = list(zip(x_values, y_values))\n",
    "    point_at_x = list(filter(lambda point: point[0] == x,combined_values))[0]\n",
    "    return point_at_x[1]"
   ]
  },
  {
   "cell_type": "code",
   "execution_count": 30,
   "metadata": {},
   "outputs": [
    {
     "data": {
      "text/plain": [
       "25682380.0"
      ]
     },
     "execution_count": 30,
     "metadata": {},
     "output_type": "execute_result"
    }
   ],
   "source": [
    "y_actual(13000000, x_values, y_values) # 25682380.0"
   ]
  },
  {
   "cell_type": "markdown",
   "metadata": {},
   "source": [
    "Write a function called `error`, that given a list of `x_values`, and a list of `y_values`, the values `m` and `b` of a regression line, and a value of `x`, returns the error at that x value.  Remember ${\\varepsilon_i} =  y_i - \\overline{y}_i$.  "
   ]
  },
  {
   "cell_type": "code",
   "execution_count": 31,
   "metadata": {
    "collapsed": true
   },
   "outputs": [],
   "source": [
    "def error(x_values, y_values, m, b, x):\n",
    "    expected = (m*x + b)\n",
    "    return y_actual(x, x_values, y_values) - expected"
   ]
  },
  {
   "cell_type": "code",
   "execution_count": 32,
   "metadata": {},
   "outputs": [
    {
     "data": {
      "text/plain": [
       "3482380.0"
      ]
     },
     "execution_count": 32,
     "metadata": {},
     "output_type": "execute_result"
    }
   ],
   "source": [
    "error(x_values, y_values, 1.7, 100000, 13000000) # 3482380.0"
   ]
  },
  {
   "cell_type": "markdown",
   "metadata": {},
   "source": [
    "Now that we have a formula to calculate our errors, write a function that returns a trace of an error at a given point.  The function is called `error_line` and it takes our dataset of `x_values` as the first argument, and `y_values` as the second argument.  It also takes in values of $m$ and $b$ as the next two arguments, to represent the regression line it calculates errors from.  Finally, it's last argument is the value $x$ it is drawing an error for.\n",
    "\n",
    "The return value is a dictionary that represents a trace, and looks like the following:  \n",
    "\n",
    "```python\n",
    "{'marker': {'color': 'red'},\n",
    " 'mode': 'line',\n",
    " 'name': 'error at 120000000',\n",
    " 'x': [120000000, 120000000],\n",
    " 'y': [93050117.0, 204010000.0]}\n",
    "\n",
    "```\n",
    "\n",
    "The trace draws a vertical line at the x value of the error.   The x values of is the value of x where the error is evaluated at. The y values of the trace are the actual value and the expected value.  The mode of the trace should equal `'line'`."
   ]
  },
  {
   "cell_type": "code",
   "execution_count": 33,
   "metadata": {
    "collapsed": true
   },
   "outputs": [],
   "source": [
    "def error_line_trace(x_values, y_values, m, b, x):\n",
    "    y_hat = m*x + b\n",
    "    y = y_actual(x, x_values, y_values)\n",
    "    name = 'error at ' + str(x)\n",
    "    return {'x': [x, x], 'y': [y, y_hat], 'mode': 'line', 'marker': {'color': 'red'}, 'name': name}"
   ]
  },
  {
   "cell_type": "code",
   "execution_count": 34,
   "metadata": {},
   "outputs": [
    {
     "data": {
      "text/plain": [
       "{'marker': {'color': 'red'},\n",
       " 'mode': 'line',\n",
       " 'name': 'error at 120000000',\n",
       " 'x': [120000000, 120000000],\n",
       " 'y': [93050117.0, 204010000.0]}"
      ]
     },
     "execution_count": 34,
     "metadata": {},
     "output_type": "execute_result"
    }
   ],
   "source": [
    "error_at_120m = error_line_trace(x_values, y_values, 1.7, 10000, 120000000)\n",
    "\n",
    "# {'marker': {'color': 'red'},\n",
    "#  'mode': 'line',\n",
    "#  'name': 'error at 120000000',\n",
    "#  'x': [120000000, 120000000],\n",
    "#  'y': [93050117.0, 204010000.0]}\n",
    "error_at_120m"
   ]
  },
  {
   "cell_type": "markdown",
   "metadata": {},
   "source": [
    "We just ran the our function to draw a trace of the error for the movie Elysium.  Let's see how it looks."
   ]
  },
  {
   "cell_type": "code",
   "execution_count": 22,
   "metadata": {},
   "outputs": [
    {
     "data": {
      "text/plain": [
       "{'budget': 120000000, 'domgross': 93050117.0, 'title': 'Elysium'}"
      ]
     },
     "execution_count": 22,
     "metadata": {},
     "output_type": "execute_result"
    }
   ],
   "source": [
    "movies[19]"
   ]
  },
  {
   "cell_type": "code",
   "execution_count": 35,
   "metadata": {},
   "outputs": [
    {
     "data": {
      "text/html": [
       "<script>requirejs.config({paths: { 'plotly': ['https://cdn.plot.ly/plotly-latest.min']},});if(!window.Plotly) {{require(['plotly'],function(plotly) {window.Plotly=plotly;});}}</script>"
      ],
      "text/vnd.plotly.v1+html": [
       "<script>requirejs.config({paths: { 'plotly': ['https://cdn.plot.ly/plotly-latest.min']},});if(!window.Plotly) {{require(['plotly'],function(plotly) {window.Plotly=plotly;});}}</script>"
      ]
     },
     "metadata": {},
     "output_type": "display_data"
    },
    {
     "data": {
      "application/vnd.plotly.v1+json": {
       "data": [
        {
         "mode": "markers",
         "name": "movie data",
         "text": [
          "21 &amp; Over",
          "Dredd 3D",
          "12 Years a Slave",
          "2 Guns",
          "42",
          "47 Ronin",
          "A Good Day to Die Hard",
          "About Time",
          "Admission",
          "After Earth",
          "American Hustle",
          "August: Osage County",
          "Beautiful Creatures",
          "Blue Jasmine",
          "Captain Phillips",
          "Carrie",
          "Cloudy with a Chance of Meatballs 2",
          "Despicable Me 2",
          "Don Jon",
          "Elysium",
          "Ender&#39;s Game",
          "Epic",
          "Escape from Planet Earth",
          "Escape Plan",
          "Evil Dead",
          "Fast and Furious 6",
          "Frozen",
          "G.I. Joe: Retaliation",
          "Gangster Squad",
          "Gloria"
         ],
         "x": [
          13000000,
          45658735,
          20000000,
          61000000,
          40000000,
          225000000,
          92000000,
          12000000,
          13000000,
          130000000,
          40000000,
          25000000,
          50000000,
          18000000,
          55000000,
          30000000,
          78000000,
          76000000,
          5500000,
          120000000,
          110000000,
          100000000,
          40000000,
          70000000,
          17000000,
          160000000,
          150000000,
          140000000,
          60000000,
          30000000
         ],
         "y": [
          25682380,
          13414714,
          53107035,
          75612460,
          95020213,
          38362475,
          67349198,
          15323921,
          18007317,
          60522097,
          148430908,
          37304874,
          19452138,
          33345833,
          107136417,
          35266619,
          119640264,
          368065385,
          24477704,
          93050117,
          61737191,
          107518682,
          57012977,
          25213103,
          54239856,
          238679850,
          393050114,
          122523060,
          46000903,
          4167493
         ]
        },
        {
         "mode": "line",
         "name": "estimated revenue",
         "x": [
          13000000,
          45658735,
          20000000,
          61000000,
          40000000,
          225000000,
          92000000,
          12000000,
          13000000,
          130000000,
          40000000,
          25000000,
          50000000,
          18000000,
          55000000,
          30000000,
          78000000,
          76000000,
          5500000,
          120000000,
          110000000,
          100000000,
          40000000,
          70000000,
          17000000,
          160000000,
          150000000,
          140000000,
          60000000,
          30000000
         ],
         "y": [
          22200000,
          77719849.5,
          34100000,
          103800000,
          68100000,
          382600000,
          156500000,
          20500000,
          22200000,
          221100000,
          68100000,
          42600000,
          85100000,
          30700000,
          93600000,
          51100000,
          132700000,
          129300000,
          9450000,
          204100000,
          187100000,
          170100000,
          68100000,
          119100000,
          29000000,
          272100000,
          255100000,
          238100000,
          102100000,
          51100000
         ]
        },
        {
         "marker": {
          "color": "red"
         },
         "mode": "line",
         "name": "error at 120000000",
         "x": [
          120000000,
          120000000
         ],
         "y": [
          93050117,
          204010000
         ]
        }
       ],
       "layout": {}
      },
      "text/html": [
       "<div id=\"06ee3d9b-9c97-46e0-8546-fc7e7e463488\" style=\"height: 525px; width: 100%;\" class=\"plotly-graph-div\"></div><script type=\"text/javascript\">require([\"plotly\"], function(Plotly) { window.PLOTLYENV=window.PLOTLYENV || {};window.PLOTLYENV.BASE_URL=\"https://plot.ly\";Plotly.newPlot(\"06ee3d9b-9c97-46e0-8546-fc7e7e463488\", [{\"x\": [13000000, 45658735, 20000000, 61000000, 40000000, 225000000, 92000000, 12000000, 13000000, 130000000, 40000000, 25000000, 50000000, 18000000, 55000000, 30000000, 78000000, 76000000, 5500000, 120000000, 110000000, 100000000, 40000000, 70000000, 17000000, 160000000, 150000000, 140000000, 60000000, 30000000], \"y\": [25682380.0, 13414714.0, 53107035.0, 75612460.0, 95020213.0, 38362475.0, 67349198.0, 15323921.0, 18007317.0, 60522097.0, 148430908.0, 37304874.0, 19452138.0, 33345833.0, 107136417.0, 35266619.0, 119640264.0, 368065385.0, 24477704.0, 93050117.0, 61737191.0, 107518682.0, 57012977.0, 25213103.0, 54239856.0, 238679850.0, 393050114.0, 122523060.0, 46000903.0, 4167493.0], \"mode\": \"markers\", \"name\": \"movie data\", \"text\": [\"21 &amp; Over\", \"Dredd 3D\", \"12 Years a Slave\", \"2 Guns\", \"42\", \"47 Ronin\", \"A Good Day to Die Hard\", \"About Time\", \"Admission\", \"After Earth\", \"American Hustle\", \"August: Osage County\", \"Beautiful Creatures\", \"Blue Jasmine\", \"Captain Phillips\", \"Carrie\", \"Cloudy with a Chance of Meatballs 2\", \"Despicable Me 2\", \"Don Jon\", \"Elysium\", \"Ender&#39;s Game\", \"Epic\", \"Escape from Planet Earth\", \"Escape Plan\", \"Evil Dead\", \"Fast and Furious 6\", \"Frozen\", \"G.I. Joe: Retaliation\", \"Gangster Squad\", \"Gloria\"]}, {\"x\": [13000000, 45658735, 20000000, 61000000, 40000000, 225000000, 92000000, 12000000, 13000000, 130000000, 40000000, 25000000, 50000000, 18000000, 55000000, 30000000, 78000000, 76000000, 5500000, 120000000, 110000000, 100000000, 40000000, 70000000, 17000000, 160000000, 150000000, 140000000, 60000000, 30000000], \"y\": [22200000.0, 77719849.5, 34100000.0, 103800000.0, 68100000.0, 382600000.0, 156500000.0, 20500000.0, 22200000.0, 221100000.0, 68100000.0, 42600000.0, 85100000.0, 30700000.0, 93600000.0, 51100000.0, 132700000.0, 129300000.0, 9450000.0, 204100000.0, 187100000.0, 170100000.0, 68100000.0, 119100000.0, 29000000.0, 272100000.0, 255100000.0, 238100000.0, 102100000.0, 51100000.0], \"mode\": \"line\", \"name\": \"estimated revenue\"}, {\"x\": [120000000, 120000000], \"y\": [93050117.0, 204010000.0], \"mode\": \"line\", \"marker\": {\"color\": \"red\"}, \"name\": \"error at 120000000\"}], {}, {\"showLink\": true, \"linkText\": \"Export to plot.ly\"})});</script>"
      ],
      "text/vnd.plotly.v1+html": [
       "<div id=\"06ee3d9b-9c97-46e0-8546-fc7e7e463488\" style=\"height: 525px; width: 100%;\" class=\"plotly-graph-div\"></div><script type=\"text/javascript\">require([\"plotly\"], function(Plotly) { window.PLOTLYENV=window.PLOTLYENV || {};window.PLOTLYENV.BASE_URL=\"https://plot.ly\";Plotly.newPlot(\"06ee3d9b-9c97-46e0-8546-fc7e7e463488\", [{\"x\": [13000000, 45658735, 20000000, 61000000, 40000000, 225000000, 92000000, 12000000, 13000000, 130000000, 40000000, 25000000, 50000000, 18000000, 55000000, 30000000, 78000000, 76000000, 5500000, 120000000, 110000000, 100000000, 40000000, 70000000, 17000000, 160000000, 150000000, 140000000, 60000000, 30000000], \"y\": [25682380.0, 13414714.0, 53107035.0, 75612460.0, 95020213.0, 38362475.0, 67349198.0, 15323921.0, 18007317.0, 60522097.0, 148430908.0, 37304874.0, 19452138.0, 33345833.0, 107136417.0, 35266619.0, 119640264.0, 368065385.0, 24477704.0, 93050117.0, 61737191.0, 107518682.0, 57012977.0, 25213103.0, 54239856.0, 238679850.0, 393050114.0, 122523060.0, 46000903.0, 4167493.0], \"mode\": \"markers\", \"name\": \"movie data\", \"text\": [\"21 &amp; Over\", \"Dredd 3D\", \"12 Years a Slave\", \"2 Guns\", \"42\", \"47 Ronin\", \"A Good Day to Die Hard\", \"About Time\", \"Admission\", \"After Earth\", \"American Hustle\", \"August: Osage County\", \"Beautiful Creatures\", \"Blue Jasmine\", \"Captain Phillips\", \"Carrie\", \"Cloudy with a Chance of Meatballs 2\", \"Despicable Me 2\", \"Don Jon\", \"Elysium\", \"Ender&#39;s Game\", \"Epic\", \"Escape from Planet Earth\", \"Escape Plan\", \"Evil Dead\", \"Fast and Furious 6\", \"Frozen\", \"G.I. Joe: Retaliation\", \"Gangster Squad\", \"Gloria\"]}, {\"x\": [13000000, 45658735, 20000000, 61000000, 40000000, 225000000, 92000000, 12000000, 13000000, 130000000, 40000000, 25000000, 50000000, 18000000, 55000000, 30000000, 78000000, 76000000, 5500000, 120000000, 110000000, 100000000, 40000000, 70000000, 17000000, 160000000, 150000000, 140000000, 60000000, 30000000], \"y\": [22200000.0, 77719849.5, 34100000.0, 103800000.0, 68100000.0, 382600000.0, 156500000.0, 20500000.0, 22200000.0, 221100000.0, 68100000.0, 42600000.0, 85100000.0, 30700000.0, 93600000.0, 51100000.0, 132700000.0, 129300000.0, 9450000.0, 204100000.0, 187100000.0, 170100000.0, 68100000.0, 119100000.0, 29000000.0, 272100000.0, 255100000.0, 238100000.0, 102100000.0, 51100000.0], \"mode\": \"line\", \"name\": \"estimated revenue\"}, {\"x\": [120000000, 120000000], \"y\": [93050117.0, 204010000.0], \"mode\": \"line\", \"marker\": {\"color\": \"red\"}, \"name\": \"error at 120000000\"}], {}, {\"showLink\": true, \"linkText\": \"Export to plot.ly\"})});</script>"
      ]
     },
     "metadata": {},
     "output_type": "display_data"
    }
   ],
   "source": [
    "from plotly.offline import iplot, init_notebook_mode\n",
    "init_notebook_mode(connected=True)\n",
    "\n",
    "from graph import trace_values, m_b_trace, plot\n",
    "movies_trace = trace_values(x_values, y_values, text=titles, name='movie data')\n",
    "regression_trace = m_b_trace(1.7, 100000, x_values, name='estimated revenue')\n",
    "plot([movies_trace, regression_trace, error_at_120m])"
   ]
  },
  {
   "cell_type": "markdown",
   "metadata": {},
   "source": [
    "From there, we can write a function called `error_lines`, that takes in a list of `x_values` as an argument, `y_values` as an argument, and returns a list of traces for every x_value provided."
   ]
  },
  {
   "cell_type": "code",
   "execution_count": 36,
   "metadata": {
    "collapsed": true
   },
   "outputs": [],
   "source": [
    "def error_line_traces(x_values, y_values, m, b):\n",
    "    return list(map(lambda x_value: error_line_trace(x_values, y_values, m, b, x_value), x_values))"
   ]
  },
  {
   "cell_type": "code",
   "execution_count": 37,
   "metadata": {
    "collapsed": true
   },
   "outputs": [],
   "source": [
    "errors_for_regression = error_line_traces(x_values, y_values, 1.7, 100000)"
   ]
  },
  {
   "cell_type": "code",
   "execution_count": 40,
   "metadata": {},
   "outputs": [
    {
     "data": {
      "text/plain": [
       "30"
      ]
     },
     "execution_count": 40,
     "metadata": {},
     "output_type": "execute_result"
    }
   ],
   "source": [
    "len(errors_for_regression) # 30"
   ]
  },
  {
   "cell_type": "code",
   "execution_count": 41,
   "metadata": {},
   "outputs": [
    {
     "data": {
      "text/plain": [
       "{'marker': {'color': 'red'},\n",
       " 'mode': 'line',\n",
       " 'name': 'error at 30000000',\n",
       " 'x': [30000000, 30000000],\n",
       " 'y': [35266619.0, 51100000.0]}"
      ]
     },
     "execution_count": 41,
     "metadata": {},
     "output_type": "execute_result"
    }
   ],
   "source": [
    "errors_for_regression[-1]\n",
    "\n",
    "# {'marker': {'color': 'red'},\n",
    "#  'mode': 'line',\n",
    "#  'name': 'error at 40000000',\n",
    "#  'x': [40000000, 40000000],\n",
    "#  'y': [95020213.0, 68100000.0]}"
   ]
  },
  {
   "cell_type": "code",
   "execution_count": 32,
   "metadata": {},
   "outputs": [
    {
     "data": {
      "text/html": [
       "<script>requirejs.config({paths: { 'plotly': ['https://cdn.plot.ly/plotly-latest.min']},});if(!window.Plotly) {{require(['plotly'],function(plotly) {window.Plotly=plotly;});}}</script>"
      ],
      "text/vnd.plotly.v1+html": [
       "<script>requirejs.config({paths: { 'plotly': ['https://cdn.plot.ly/plotly-latest.min']},});if(!window.Plotly) {{require(['plotly'],function(plotly) {window.Plotly=plotly;});}}</script>"
      ]
     },
     "metadata": {},
     "output_type": "display_data"
    },
    {
     "data": {
      "application/vnd.plotly.v1+json": {
       "data": [
        {
         "mode": "markers",
         "name": "movie data",
         "text": [
          "21 &amp; Over",
          "Dredd 3D",
          "12 Years a Slave",
          "2 Guns",
          "42",
          "47 Ronin",
          "A Good Day to Die Hard",
          "About Time",
          "Admission",
          "After Earth",
          "American Hustle",
          "August: Osage County",
          "Beautiful Creatures",
          "Blue Jasmine",
          "Captain Phillips",
          "Carrie",
          "Cloudy with a Chance of Meatballs 2",
          "Despicable Me 2",
          "Don Jon",
          "Elysium",
          "Ender&#39;s Game",
          "Epic",
          "Escape from Planet Earth",
          "Escape Plan",
          "Evil Dead",
          "Fast and Furious 6",
          "Frozen",
          "G.I. Joe: Retaliation",
          "Gangster Squad",
          "Gloria"
         ],
         "x": [
          13000000,
          45658735,
          20000000,
          61000000,
          40000000,
          225000000,
          92000000,
          12000000,
          13000000,
          130000000,
          40000000,
          25000000,
          50000000,
          18000000,
          55000000,
          30000000,
          78000000,
          76000000,
          5500000,
          120000000,
          110000000,
          100000000,
          40000000,
          70000000,
          17000000,
          160000000,
          150000000,
          140000000,
          60000000,
          30000000
         ],
         "y": [
          25682380,
          13414714,
          53107035,
          75612460,
          95020213,
          38362475,
          67349198,
          15323921,
          18007317,
          60522097,
          148430908,
          37304874,
          19452138,
          33345833,
          107136417,
          35266619,
          119640264,
          368065385,
          24477704,
          93050117,
          61737191,
          107518682,
          57012977,
          25213103,
          54239856,
          238679850,
          393050114,
          122523060,
          46000903,
          4167493
         ]
        },
        {
         "mode": "line",
         "name": "estimated revenue",
         "x": [
          13000000,
          45658735,
          20000000,
          61000000,
          40000000,
          225000000,
          92000000,
          12000000,
          13000000,
          130000000,
          40000000,
          25000000,
          50000000,
          18000000,
          55000000,
          30000000,
          78000000,
          76000000,
          5500000,
          120000000,
          110000000,
          100000000,
          40000000,
          70000000,
          17000000,
          160000000,
          150000000,
          140000000,
          60000000,
          30000000
         ],
         "y": [
          22200000,
          77719849.5,
          34100000,
          103800000,
          68100000,
          382600000,
          156500000,
          20500000,
          22200000,
          221100000,
          68100000,
          42600000,
          85100000,
          30700000,
          93600000,
          51100000,
          132700000,
          129300000,
          9450000,
          204100000,
          187100000,
          170100000,
          68100000,
          119100000,
          29000000,
          272100000,
          255100000,
          238100000,
          102100000,
          51100000
         ]
        },
        {
         "marker": {
          "color": "red"
         },
         "mode": "line",
         "name": "error at 13000000",
         "x": [
          13000000,
          13000000
         ],
         "y": [
          25682380,
          22200000
         ]
        },
        {
         "marker": {
          "color": "red"
         },
         "mode": "line",
         "name": "error at 45658735",
         "x": [
          45658735,
          45658735
         ],
         "y": [
          13414714,
          77719849.5
         ]
        },
        {
         "marker": {
          "color": "red"
         },
         "mode": "line",
         "name": "error at 20000000",
         "x": [
          20000000,
          20000000
         ],
         "y": [
          53107035,
          34100000
         ]
        },
        {
         "marker": {
          "color": "red"
         },
         "mode": "line",
         "name": "error at 61000000",
         "x": [
          61000000,
          61000000
         ],
         "y": [
          75612460,
          103800000
         ]
        },
        {
         "marker": {
          "color": "red"
         },
         "mode": "line",
         "name": "error at 40000000",
         "x": [
          40000000,
          40000000
         ],
         "y": [
          95020213,
          68100000
         ]
        },
        {
         "marker": {
          "color": "red"
         },
         "mode": "line",
         "name": "error at 225000000",
         "x": [
          225000000,
          225000000
         ],
         "y": [
          38362475,
          382600000
         ]
        },
        {
         "marker": {
          "color": "red"
         },
         "mode": "line",
         "name": "error at 92000000",
         "x": [
          92000000,
          92000000
         ],
         "y": [
          67349198,
          156500000
         ]
        },
        {
         "marker": {
          "color": "red"
         },
         "mode": "line",
         "name": "error at 12000000",
         "x": [
          12000000,
          12000000
         ],
         "y": [
          15323921,
          20500000
         ]
        },
        {
         "marker": {
          "color": "red"
         },
         "mode": "line",
         "name": "error at 13000000",
         "x": [
          13000000,
          13000000
         ],
         "y": [
          25682380,
          22200000
         ]
        },
        {
         "marker": {
          "color": "red"
         },
         "mode": "line",
         "name": "error at 130000000",
         "x": [
          130000000,
          130000000
         ],
         "y": [
          60522097,
          221100000
         ]
        },
        {
         "marker": {
          "color": "red"
         },
         "mode": "line",
         "name": "error at 40000000",
         "x": [
          40000000,
          40000000
         ],
         "y": [
          95020213,
          68100000
         ]
        },
        {
         "marker": {
          "color": "red"
         },
         "mode": "line",
         "name": "error at 25000000",
         "x": [
          25000000,
          25000000
         ],
         "y": [
          37304874,
          42600000
         ]
        },
        {
         "marker": {
          "color": "red"
         },
         "mode": "line",
         "name": "error at 50000000",
         "x": [
          50000000,
          50000000
         ],
         "y": [
          19452138,
          85100000
         ]
        },
        {
         "marker": {
          "color": "red"
         },
         "mode": "line",
         "name": "error at 18000000",
         "x": [
          18000000,
          18000000
         ],
         "y": [
          33345833,
          30700000
         ]
        },
        {
         "marker": {
          "color": "red"
         },
         "mode": "line",
         "name": "error at 55000000",
         "x": [
          55000000,
          55000000
         ],
         "y": [
          107136417,
          93600000
         ]
        },
        {
         "marker": {
          "color": "red"
         },
         "mode": "line",
         "name": "error at 30000000",
         "x": [
          30000000,
          30000000
         ],
         "y": [
          35266619,
          51100000
         ]
        },
        {
         "marker": {
          "color": "red"
         },
         "mode": "line",
         "name": "error at 78000000",
         "x": [
          78000000,
          78000000
         ],
         "y": [
          119640264,
          132700000
         ]
        },
        {
         "marker": {
          "color": "red"
         },
         "mode": "line",
         "name": "error at 76000000",
         "x": [
          76000000,
          76000000
         ],
         "y": [
          368065385,
          129300000
         ]
        },
        {
         "marker": {
          "color": "red"
         },
         "mode": "line",
         "name": "error at 5500000",
         "x": [
          5500000,
          5500000
         ],
         "y": [
          24477704,
          9450000
         ]
        },
        {
         "marker": {
          "color": "red"
         },
         "mode": "line",
         "name": "error at 120000000",
         "x": [
          120000000,
          120000000
         ],
         "y": [
          93050117,
          204100000
         ]
        },
        {
         "marker": {
          "color": "red"
         },
         "mode": "line",
         "name": "error at 110000000",
         "x": [
          110000000,
          110000000
         ],
         "y": [
          61737191,
          187100000
         ]
        },
        {
         "marker": {
          "color": "red"
         },
         "mode": "line",
         "name": "error at 100000000",
         "x": [
          100000000,
          100000000
         ],
         "y": [
          107518682,
          170100000
         ]
        },
        {
         "marker": {
          "color": "red"
         },
         "mode": "line",
         "name": "error at 40000000",
         "x": [
          40000000,
          40000000
         ],
         "y": [
          95020213,
          68100000
         ]
        },
        {
         "marker": {
          "color": "red"
         },
         "mode": "line",
         "name": "error at 70000000",
         "x": [
          70000000,
          70000000
         ],
         "y": [
          25213103,
          119100000
         ]
        },
        {
         "marker": {
          "color": "red"
         },
         "mode": "line",
         "name": "error at 17000000",
         "x": [
          17000000,
          17000000
         ],
         "y": [
          54239856,
          29000000
         ]
        },
        {
         "marker": {
          "color": "red"
         },
         "mode": "line",
         "name": "error at 160000000",
         "x": [
          160000000,
          160000000
         ],
         "y": [
          238679850,
          272100000
         ]
        },
        {
         "marker": {
          "color": "red"
         },
         "mode": "line",
         "name": "error at 150000000",
         "x": [
          150000000,
          150000000
         ],
         "y": [
          393050114,
          255100000
         ]
        },
        {
         "marker": {
          "color": "red"
         },
         "mode": "line",
         "name": "error at 140000000",
         "x": [
          140000000,
          140000000
         ],
         "y": [
          122523060,
          238100000
         ]
        },
        {
         "marker": {
          "color": "red"
         },
         "mode": "line",
         "name": "error at 60000000",
         "x": [
          60000000,
          60000000
         ],
         "y": [
          46000903,
          102100000
         ]
        },
        {
         "marker": {
          "color": "red"
         },
         "mode": "line",
         "name": "error at 30000000",
         "x": [
          30000000,
          30000000
         ],
         "y": [
          35266619,
          51100000
         ]
        }
       ],
       "layout": {}
      },
      "text/html": [
       "<div id=\"13e72b40-19ea-4237-9319-e881ea908fb8\" style=\"height: 525px; width: 100%;\" class=\"plotly-graph-div\"></div><script type=\"text/javascript\">require([\"plotly\"], function(Plotly) { window.PLOTLYENV=window.PLOTLYENV || {};window.PLOTLYENV.BASE_URL=\"https://plot.ly\";Plotly.newPlot(\"13e72b40-19ea-4237-9319-e881ea908fb8\", [{\"x\": [13000000, 45658735, 20000000, 61000000, 40000000, 225000000, 92000000, 12000000, 13000000, 130000000, 40000000, 25000000, 50000000, 18000000, 55000000, 30000000, 78000000, 76000000, 5500000, 120000000, 110000000, 100000000, 40000000, 70000000, 17000000, 160000000, 150000000, 140000000, 60000000, 30000000], \"y\": [25682380.0, 13414714.0, 53107035.0, 75612460.0, 95020213.0, 38362475.0, 67349198.0, 15323921.0, 18007317.0, 60522097.0, 148430908.0, 37304874.0, 19452138.0, 33345833.0, 107136417.0, 35266619.0, 119640264.0, 368065385.0, 24477704.0, 93050117.0, 61737191.0, 107518682.0, 57012977.0, 25213103.0, 54239856.0, 238679850.0, 393050114.0, 122523060.0, 46000903.0, 4167493.0], \"mode\": \"markers\", \"name\": \"movie data\", \"text\": [\"21 &amp; Over\", \"Dredd 3D\", \"12 Years a Slave\", \"2 Guns\", \"42\", \"47 Ronin\", \"A Good Day to Die Hard\", \"About Time\", \"Admission\", \"After Earth\", \"American Hustle\", \"August: Osage County\", \"Beautiful Creatures\", \"Blue Jasmine\", \"Captain Phillips\", \"Carrie\", \"Cloudy with a Chance of Meatballs 2\", \"Despicable Me 2\", \"Don Jon\", \"Elysium\", \"Ender&#39;s Game\", \"Epic\", \"Escape from Planet Earth\", \"Escape Plan\", \"Evil Dead\", \"Fast and Furious 6\", \"Frozen\", \"G.I. Joe: Retaliation\", \"Gangster Squad\", \"Gloria\"]}, {\"x\": [13000000, 45658735, 20000000, 61000000, 40000000, 225000000, 92000000, 12000000, 13000000, 130000000, 40000000, 25000000, 50000000, 18000000, 55000000, 30000000, 78000000, 76000000, 5500000, 120000000, 110000000, 100000000, 40000000, 70000000, 17000000, 160000000, 150000000, 140000000, 60000000, 30000000], \"y\": [22200000.0, 77719849.5, 34100000.0, 103800000.0, 68100000.0, 382600000.0, 156500000.0, 20500000.0, 22200000.0, 221100000.0, 68100000.0, 42600000.0, 85100000.0, 30700000.0, 93600000.0, 51100000.0, 132700000.0, 129300000.0, 9450000.0, 204100000.0, 187100000.0, 170100000.0, 68100000.0, 119100000.0, 29000000.0, 272100000.0, 255100000.0, 238100000.0, 102100000.0, 51100000.0], \"mode\": \"line\", \"name\": \"estimated revenue\"}, {\"x\": [13000000, 13000000], \"y\": [25682380.0, 22200000.0], \"mode\": \"line\", \"marker\": {\"color\": \"red\"}, \"name\": \"error at 13000000\"}, {\"x\": [45658735, 45658735], \"y\": [13414714.0, 77719849.5], \"mode\": \"line\", \"marker\": {\"color\": \"red\"}, \"name\": \"error at 45658735\"}, {\"x\": [20000000, 20000000], \"y\": [53107035.0, 34100000.0], \"mode\": \"line\", \"marker\": {\"color\": \"red\"}, \"name\": \"error at 20000000\"}, {\"x\": [61000000, 61000000], \"y\": [75612460.0, 103800000.0], \"mode\": \"line\", \"marker\": {\"color\": \"red\"}, \"name\": \"error at 61000000\"}, {\"x\": [40000000, 40000000], \"y\": [95020213.0, 68100000.0], \"mode\": \"line\", \"marker\": {\"color\": \"red\"}, \"name\": \"error at 40000000\"}, {\"x\": [225000000, 225000000], \"y\": [38362475.0, 382600000.0], \"mode\": \"line\", \"marker\": {\"color\": \"red\"}, \"name\": \"error at 225000000\"}, {\"x\": [92000000, 92000000], \"y\": [67349198.0, 156500000.0], \"mode\": \"line\", \"marker\": {\"color\": \"red\"}, \"name\": \"error at 92000000\"}, {\"x\": [12000000, 12000000], \"y\": [15323921.0, 20500000.0], \"mode\": \"line\", \"marker\": {\"color\": \"red\"}, \"name\": \"error at 12000000\"}, {\"x\": [13000000, 13000000], \"y\": [25682380.0, 22200000.0], \"mode\": \"line\", \"marker\": {\"color\": \"red\"}, \"name\": \"error at 13000000\"}, {\"x\": [130000000, 130000000], \"y\": [60522097.0, 221100000.0], \"mode\": \"line\", \"marker\": {\"color\": \"red\"}, \"name\": \"error at 130000000\"}, {\"x\": [40000000, 40000000], \"y\": [95020213.0, 68100000.0], \"mode\": \"line\", \"marker\": {\"color\": \"red\"}, \"name\": \"error at 40000000\"}, {\"x\": [25000000, 25000000], \"y\": [37304874.0, 42600000.0], \"mode\": \"line\", \"marker\": {\"color\": \"red\"}, \"name\": \"error at 25000000\"}, {\"x\": [50000000, 50000000], \"y\": [19452138.0, 85100000.0], \"mode\": \"line\", \"marker\": {\"color\": \"red\"}, \"name\": \"error at 50000000\"}, {\"x\": [18000000, 18000000], \"y\": [33345833.0, 30700000.0], \"mode\": \"line\", \"marker\": {\"color\": \"red\"}, \"name\": \"error at 18000000\"}, {\"x\": [55000000, 55000000], \"y\": [107136417.0, 93600000.0], \"mode\": \"line\", \"marker\": {\"color\": \"red\"}, \"name\": \"error at 55000000\"}, {\"x\": [30000000, 30000000], \"y\": [35266619.0, 51100000.0], \"mode\": \"line\", \"marker\": {\"color\": \"red\"}, \"name\": \"error at 30000000\"}, {\"x\": [78000000, 78000000], \"y\": [119640264.0, 132700000.0], \"mode\": \"line\", \"marker\": {\"color\": \"red\"}, \"name\": \"error at 78000000\"}, {\"x\": [76000000, 76000000], \"y\": [368065385.0, 129300000.0], \"mode\": \"line\", \"marker\": {\"color\": \"red\"}, \"name\": \"error at 76000000\"}, {\"x\": [5500000, 5500000], \"y\": [24477704.0, 9450000.0], \"mode\": \"line\", \"marker\": {\"color\": \"red\"}, \"name\": \"error at 5500000\"}, {\"x\": [120000000, 120000000], \"y\": [93050117.0, 204100000.0], \"mode\": \"line\", \"marker\": {\"color\": \"red\"}, \"name\": \"error at 120000000\"}, {\"x\": [110000000, 110000000], \"y\": [61737191.0, 187100000.0], \"mode\": \"line\", \"marker\": {\"color\": \"red\"}, \"name\": \"error at 110000000\"}, {\"x\": [100000000, 100000000], \"y\": [107518682.0, 170100000.0], \"mode\": \"line\", \"marker\": {\"color\": \"red\"}, \"name\": \"error at 100000000\"}, {\"x\": [40000000, 40000000], \"y\": [95020213.0, 68100000.0], \"mode\": \"line\", \"marker\": {\"color\": \"red\"}, \"name\": \"error at 40000000\"}, {\"x\": [70000000, 70000000], \"y\": [25213103.0, 119100000.0], \"mode\": \"line\", \"marker\": {\"color\": \"red\"}, \"name\": \"error at 70000000\"}, {\"x\": [17000000, 17000000], \"y\": [54239856.0, 29000000.0], \"mode\": \"line\", \"marker\": {\"color\": \"red\"}, \"name\": \"error at 17000000\"}, {\"x\": [160000000, 160000000], \"y\": [238679850.0, 272100000.0], \"mode\": \"line\", \"marker\": {\"color\": \"red\"}, \"name\": \"error at 160000000\"}, {\"x\": [150000000, 150000000], \"y\": [393050114.0, 255100000.0], \"mode\": \"line\", \"marker\": {\"color\": \"red\"}, \"name\": \"error at 150000000\"}, {\"x\": [140000000, 140000000], \"y\": [122523060.0, 238100000.0], \"mode\": \"line\", \"marker\": {\"color\": \"red\"}, \"name\": \"error at 140000000\"}, {\"x\": [60000000, 60000000], \"y\": [46000903.0, 102100000.0], \"mode\": \"line\", \"marker\": {\"color\": \"red\"}, \"name\": \"error at 60000000\"}, {\"x\": [30000000, 30000000], \"y\": [35266619.0, 51100000.0], \"mode\": \"line\", \"marker\": {\"color\": \"red\"}, \"name\": \"error at 30000000\"}], {}, {\"showLink\": true, \"linkText\": \"Export to plot.ly\"})});</script>"
      ],
      "text/vnd.plotly.v1+html": [
       "<div id=\"13e72b40-19ea-4237-9319-e881ea908fb8\" style=\"height: 525px; width: 100%;\" class=\"plotly-graph-div\"></div><script type=\"text/javascript\">require([\"plotly\"], function(Plotly) { window.PLOTLYENV=window.PLOTLYENV || {};window.PLOTLYENV.BASE_URL=\"https://plot.ly\";Plotly.newPlot(\"13e72b40-19ea-4237-9319-e881ea908fb8\", [{\"x\": [13000000, 45658735, 20000000, 61000000, 40000000, 225000000, 92000000, 12000000, 13000000, 130000000, 40000000, 25000000, 50000000, 18000000, 55000000, 30000000, 78000000, 76000000, 5500000, 120000000, 110000000, 100000000, 40000000, 70000000, 17000000, 160000000, 150000000, 140000000, 60000000, 30000000], \"y\": [25682380.0, 13414714.0, 53107035.0, 75612460.0, 95020213.0, 38362475.0, 67349198.0, 15323921.0, 18007317.0, 60522097.0, 148430908.0, 37304874.0, 19452138.0, 33345833.0, 107136417.0, 35266619.0, 119640264.0, 368065385.0, 24477704.0, 93050117.0, 61737191.0, 107518682.0, 57012977.0, 25213103.0, 54239856.0, 238679850.0, 393050114.0, 122523060.0, 46000903.0, 4167493.0], \"mode\": \"markers\", \"name\": \"movie data\", \"text\": [\"21 &amp; Over\", \"Dredd 3D\", \"12 Years a Slave\", \"2 Guns\", \"42\", \"47 Ronin\", \"A Good Day to Die Hard\", \"About Time\", \"Admission\", \"After Earth\", \"American Hustle\", \"August: Osage County\", \"Beautiful Creatures\", \"Blue Jasmine\", \"Captain Phillips\", \"Carrie\", \"Cloudy with a Chance of Meatballs 2\", \"Despicable Me 2\", \"Don Jon\", \"Elysium\", \"Ender&#39;s Game\", \"Epic\", \"Escape from Planet Earth\", \"Escape Plan\", \"Evil Dead\", \"Fast and Furious 6\", \"Frozen\", \"G.I. Joe: Retaliation\", \"Gangster Squad\", \"Gloria\"]}, {\"x\": [13000000, 45658735, 20000000, 61000000, 40000000, 225000000, 92000000, 12000000, 13000000, 130000000, 40000000, 25000000, 50000000, 18000000, 55000000, 30000000, 78000000, 76000000, 5500000, 120000000, 110000000, 100000000, 40000000, 70000000, 17000000, 160000000, 150000000, 140000000, 60000000, 30000000], \"y\": [22200000.0, 77719849.5, 34100000.0, 103800000.0, 68100000.0, 382600000.0, 156500000.0, 20500000.0, 22200000.0, 221100000.0, 68100000.0, 42600000.0, 85100000.0, 30700000.0, 93600000.0, 51100000.0, 132700000.0, 129300000.0, 9450000.0, 204100000.0, 187100000.0, 170100000.0, 68100000.0, 119100000.0, 29000000.0, 272100000.0, 255100000.0, 238100000.0, 102100000.0, 51100000.0], \"mode\": \"line\", \"name\": \"estimated revenue\"}, {\"x\": [13000000, 13000000], \"y\": [25682380.0, 22200000.0], \"mode\": \"line\", \"marker\": {\"color\": \"red\"}, \"name\": \"error at 13000000\"}, {\"x\": [45658735, 45658735], \"y\": [13414714.0, 77719849.5], \"mode\": \"line\", \"marker\": {\"color\": \"red\"}, \"name\": \"error at 45658735\"}, {\"x\": [20000000, 20000000], \"y\": [53107035.0, 34100000.0], \"mode\": \"line\", \"marker\": {\"color\": \"red\"}, \"name\": \"error at 20000000\"}, {\"x\": [61000000, 61000000], \"y\": [75612460.0, 103800000.0], \"mode\": \"line\", \"marker\": {\"color\": \"red\"}, \"name\": \"error at 61000000\"}, {\"x\": [40000000, 40000000], \"y\": [95020213.0, 68100000.0], \"mode\": \"line\", \"marker\": {\"color\": \"red\"}, \"name\": \"error at 40000000\"}, {\"x\": [225000000, 225000000], \"y\": [38362475.0, 382600000.0], \"mode\": \"line\", \"marker\": {\"color\": \"red\"}, \"name\": \"error at 225000000\"}, {\"x\": [92000000, 92000000], \"y\": [67349198.0, 156500000.0], \"mode\": \"line\", \"marker\": {\"color\": \"red\"}, \"name\": \"error at 92000000\"}, {\"x\": [12000000, 12000000], \"y\": [15323921.0, 20500000.0], \"mode\": \"line\", \"marker\": {\"color\": \"red\"}, \"name\": \"error at 12000000\"}, {\"x\": [13000000, 13000000], \"y\": [25682380.0, 22200000.0], \"mode\": \"line\", \"marker\": {\"color\": \"red\"}, \"name\": \"error at 13000000\"}, {\"x\": [130000000, 130000000], \"y\": [60522097.0, 221100000.0], \"mode\": \"line\", \"marker\": {\"color\": \"red\"}, \"name\": \"error at 130000000\"}, {\"x\": [40000000, 40000000], \"y\": [95020213.0, 68100000.0], \"mode\": \"line\", \"marker\": {\"color\": \"red\"}, \"name\": \"error at 40000000\"}, {\"x\": [25000000, 25000000], \"y\": [37304874.0, 42600000.0], \"mode\": \"line\", \"marker\": {\"color\": \"red\"}, \"name\": \"error at 25000000\"}, {\"x\": [50000000, 50000000], \"y\": [19452138.0, 85100000.0], \"mode\": \"line\", \"marker\": {\"color\": \"red\"}, \"name\": \"error at 50000000\"}, {\"x\": [18000000, 18000000], \"y\": [33345833.0, 30700000.0], \"mode\": \"line\", \"marker\": {\"color\": \"red\"}, \"name\": \"error at 18000000\"}, {\"x\": [55000000, 55000000], \"y\": [107136417.0, 93600000.0], \"mode\": \"line\", \"marker\": {\"color\": \"red\"}, \"name\": \"error at 55000000\"}, {\"x\": [30000000, 30000000], \"y\": [35266619.0, 51100000.0], \"mode\": \"line\", \"marker\": {\"color\": \"red\"}, \"name\": \"error at 30000000\"}, {\"x\": [78000000, 78000000], \"y\": [119640264.0, 132700000.0], \"mode\": \"line\", \"marker\": {\"color\": \"red\"}, \"name\": \"error at 78000000\"}, {\"x\": [76000000, 76000000], \"y\": [368065385.0, 129300000.0], \"mode\": \"line\", \"marker\": {\"color\": \"red\"}, \"name\": \"error at 76000000\"}, {\"x\": [5500000, 5500000], \"y\": [24477704.0, 9450000.0], \"mode\": \"line\", \"marker\": {\"color\": \"red\"}, \"name\": \"error at 5500000\"}, {\"x\": [120000000, 120000000], \"y\": [93050117.0, 204100000.0], \"mode\": \"line\", \"marker\": {\"color\": \"red\"}, \"name\": \"error at 120000000\"}, {\"x\": [110000000, 110000000], \"y\": [61737191.0, 187100000.0], \"mode\": \"line\", \"marker\": {\"color\": \"red\"}, \"name\": \"error at 110000000\"}, {\"x\": [100000000, 100000000], \"y\": [107518682.0, 170100000.0], \"mode\": \"line\", \"marker\": {\"color\": \"red\"}, \"name\": \"error at 100000000\"}, {\"x\": [40000000, 40000000], \"y\": [95020213.0, 68100000.0], \"mode\": \"line\", \"marker\": {\"color\": \"red\"}, \"name\": \"error at 40000000\"}, {\"x\": [70000000, 70000000], \"y\": [25213103.0, 119100000.0], \"mode\": \"line\", \"marker\": {\"color\": \"red\"}, \"name\": \"error at 70000000\"}, {\"x\": [17000000, 17000000], \"y\": [54239856.0, 29000000.0], \"mode\": \"line\", \"marker\": {\"color\": \"red\"}, \"name\": \"error at 17000000\"}, {\"x\": [160000000, 160000000], \"y\": [238679850.0, 272100000.0], \"mode\": \"line\", \"marker\": {\"color\": \"red\"}, \"name\": \"error at 160000000\"}, {\"x\": [150000000, 150000000], \"y\": [393050114.0, 255100000.0], \"mode\": \"line\", \"marker\": {\"color\": \"red\"}, \"name\": \"error at 150000000\"}, {\"x\": [140000000, 140000000], \"y\": [122523060.0, 238100000.0], \"mode\": \"line\", \"marker\": {\"color\": \"red\"}, \"name\": \"error at 140000000\"}, {\"x\": [60000000, 60000000], \"y\": [46000903.0, 102100000.0], \"mode\": \"line\", \"marker\": {\"color\": \"red\"}, \"name\": \"error at 60000000\"}, {\"x\": [30000000, 30000000], \"y\": [35266619.0, 51100000.0], \"mode\": \"line\", \"marker\": {\"color\": \"red\"}, \"name\": \"error at 30000000\"}], {}, {\"showLink\": true, \"linkText\": \"Export to plot.ly\"})});</script>"
      ]
     },
     "metadata": {},
     "output_type": "display_data"
    }
   ],
   "source": [
    "from plotly.offline import iplot, init_notebook_mode\n",
    "init_notebook_mode(connected=True)\n",
    "\n",
    "from graph import trace_values, m_b_trace, plot\n",
    "movies_trace = trace_values(x_values, y_values, text=titles, name='movie data')\n",
    "regression_trace = m_b_trace(1.7, 100000, x_values, name='estimated revenue')\n",
    "plot([movies_trace, regression_trace, *errors_for_regression])"
   ]
  },
  {
   "cell_type": "markdown",
   "metadata": {},
   "source": [
    "### Calculating RSS"
   ]
  },
  {
   "cell_type": "markdown",
   "metadata": {},
   "source": [
    "Now write a function called `squared_error`, that given a value of x, returns the squared error at that x value.\n",
    "\n",
    "${\\varepsilon_i}^2 =  (y_i - \\overline{y}_i)^2$"
   ]
  },
  {
   "cell_type": "code",
   "execution_count": 45,
   "metadata": {
    "collapsed": true
   },
   "outputs": [],
   "source": [
    "def squared_error(x_values, y_values, m, b, x):\n",
    "    return error(x_values, y_values, m, b, x)**2"
   ]
  },
  {
   "cell_type": "code",
   "execution_count": 46,
   "metadata": {},
   "outputs": [
    {
     "data": {
      "text/plain": [
       "12126970464400.0"
      ]
     },
     "execution_count": 46,
     "metadata": {},
     "output_type": "execute_result"
    }
   ],
   "source": [
    "squared_error(x_values, y_values, 1.7, 100000, x_values[0]) # 12126970464400.0"
   ]
  },
  {
   "cell_type": "markdown",
   "metadata": {},
   "source": [
    "Now write a function that will iterate through the x and y values to create a list of squared errors at each point, $(x_i, y_i)$ of the dataset."
   ]
  },
  {
   "cell_type": "code",
   "execution_count": 47,
   "metadata": {
    "collapsed": true
   },
   "outputs": [],
   "source": [
    "def squared_errors(x_values, y_values, m, b):\n",
    "    return list(map(lambda x: squared_error(x_values, y_values, m, b, x), x_values))"
   ]
  },
  {
   "cell_type": "code",
   "execution_count": 48,
   "metadata": {
    "scrolled": true
   },
   "outputs": [
    {
     "data": {
      "text/plain": [
       "[12126970464400.0,\n",
       " 4135150451673360.5,\n",
       " 361267379491225.0,\n",
       " 794537411251600.0,\n",
       " 724697867965369.0,\n",
       " 1.1849947361812563e+17,\n",
       " 7947865497243204.0,\n",
       " 26791793814241.0,\n",
       " 12126970464400.0,\n",
       " 2.578526293187741e+16,\n",
       " 724697867965369.0,\n",
       " 28038359355876.0,\n",
       " 4309641785171044.0,\n",
       " 7000432263889.0,\n",
       " 183234585197889.0,\n",
       " 250695953891161.0,\n",
       " 170556704389696.0,\n",
       " 5.700890907419822e+16,\n",
       " 225831887511616.0,\n",
       " 1.2332076514313688e+16,\n",
       " 1.5715833880370482e+16,\n",
       " 3916421362617124.0,\n",
       " 724697867965369.0,\n",
       " 8814749428288609.0,\n",
       " 637050330900736.0,\n",
       " 1116906426022500.0,\n",
       " 1.9030233952612996e+16,\n",
       " 1.33580290597636e+16,\n",
       " 3147108684215409.0,\n",
       " 250695953891161.0]"
      ]
     },
     "execution_count": 48,
     "metadata": {},
     "output_type": "execute_result"
    }
   ],
   "source": [
    "squared_errors(x_values, y_values, 1.7, 100000)"
   ]
  },
  {
   "cell_type": "markdown",
   "metadata": {},
   "source": [
    "Next, write a function called `residual_sum_squares` that, provided a list of x_values, y_values, and the values of a regression line m and b, returns the sum of the squared error for the movies in our dataset."
   ]
  },
  {
   "cell_type": "code",
   "execution_count": 51,
   "metadata": {},
   "outputs": [],
   "source": [
    "def residual_sum_squares(x_values, y_values, m, b):\n",
    "    return sum(squared_errors(x_values, y_values, m, b))"
   ]
  },
  {
   "cell_type": "code",
   "execution_count": 52,
   "metadata": {},
   "outputs": [
    {
     "data": {
      "text/plain": [
       "3.0025171100327725e+17"
      ]
     },
     "execution_count": 52,
     "metadata": {},
     "output_type": "execute_result"
    }
   ],
   "source": [
    "residual_sum_squares(x_values, y_values, 1.7, 100000) # 3.0025171100327725e+17"
   ]
  },
  {
   "cell_type": "markdown",
   "metadata": {},
   "source": [
    "Finally, write a function called `root_mean_squared_error` that calculates the RMSE for RMSE for the movies in the dataset, provided the same parameters as RSS."
   ]
  },
  {
   "cell_type": "code",
   "execution_count": 66,
   "metadata": {},
   "outputs": [],
   "source": [
    "import math\n",
    "def root_mean_squared_error(x_values, y_values, m, b):\n",
    "    return math.sqrt(sum(squared_errors(x_values, y_values, m, b)))/len(x_values)"
   ]
  },
  {
   "cell_type": "code",
   "execution_count": 67,
   "metadata": {},
   "outputs": [
    {
     "data": {
      "text/plain": [
       "18265076.29948103"
      ]
     },
     "execution_count": 67,
     "metadata": {},
     "output_type": "execute_result"
    }
   ],
   "source": [
    "root_mean_squared_error(x_values, y_values, 1.7, 100000)"
   ]
  },
  {
   "cell_type": "markdown",
   "metadata": {},
   "source": [
    "#### Some functions for your understanding"
   ]
  },
  {
   "cell_type": "markdown",
   "metadata": {},
   "source": [
    "Now we'll provide a couple functions for you.  Note that we can represent a multiple regression lines by a list of m and b values:"
   ]
  },
  {
   "cell_type": "code",
   "execution_count": 68,
   "metadata": {
    "collapsed": true
   },
   "outputs": [],
   "source": [
    "regression_lines = [(1.7, 100000), (1.9, 200000)]"
   ]
  },
  {
   "cell_type": "markdown",
   "metadata": {},
   "source": [
    "And then can return a list of the regression lines along with the associated RMSE."
   ]
  },
  {
   "cell_type": "code",
   "execution_count": 74,
   "metadata": {},
   "outputs": [],
   "source": [
    "def root_mean_squared_errors(x_values, y_values, regression_lines):\n",
    "    errors = []\n",
    "    for regression_line in regression_lines:\n",
    "        error = root_mean_squared_error(x_values, y_values, regression_line[0], regression_line[1])\n",
    "        errors.append([regression_line[0], regression_line[1], round(error, 0)])\n",
    "    return errors"
   ]
  },
  {
   "cell_type": "markdown",
   "metadata": {},
   "source": [
    "Now let's generate the rss values for each of these lines."
   ]
  },
  {
   "cell_type": "code",
   "execution_count": 75,
   "metadata": {},
   "outputs": [
    {
     "data": {
      "text/plain": [
       "[[1.7, 100000, 18265076.0], [1.9, 200000, 20121368.0]]"
      ]
     },
     "execution_count": 75,
     "metadata": {},
     "output_type": "execute_result"
    }
   ],
   "source": [
    "root_mean_squared_errors(x_values, y_values, regression_lines)"
   ]
  },
  {
   "cell_type": "markdown",
   "metadata": {},
   "source": [
    "Now we'll provide a couple functions for you:\n",
    "* a function called `trace_rss`, that builds a bar chart displaying the value of the RSS.  The return value is a dictionary with keys of `x` and `y`, both which point to lists.  The $x$ key points to a list with one element, the string 'RSS' and related m and b value.  The $y$ list should be a list which points to the value of the RSS for related regression lines."
   ]
  },
  {
   "cell_type": "code",
   "execution_count": 81,
   "metadata": {},
   "outputs": [
    {
     "data": {
      "text/plain": [
       "{'type': 'bar',\n",
       " 'x': ['m: 1.7 b: 100000', 'm: 1.9 b: 200000'],\n",
       " 'y': [18265076.0, 20121368.0]}"
      ]
     },
     "execution_count": 81,
     "metadata": {},
     "output_type": "execute_result"
    }
   ],
   "source": [
    "import plotly.graph_objs as go\n",
    "\n",
    "def trace_rmse(x_values, y_values, regression_lines):\n",
    "    errors = root_mean_squared_errors(x_values, y_values, regression_lines)\n",
    "    x_values_bar = list(map(lambda error: 'm: ' + str(error[0]) + ' b: ' + str(error[1]),errors))\n",
    "    y_values_bar = list(map(lambda error: error[-1], errors))\n",
    "    return dict(\n",
    "        x=x_values_bar,\n",
    "        y=y_values_bar,\n",
    "        type='bar'\n",
    "    )\n",
    "\n",
    "trace_rmse(x_values, y_values, regression_lines)"
   ]
  },
  {
   "cell_type": "markdown",
   "metadata": {},
   "source": [
    "Once this is built, we can build a subplot showing the regression line, as well as the related RSS for the regression line."
   ]
  },
  {
   "cell_type": "code",
   "execution_count": 86,
   "metadata": {
    "collapsed": true
   },
   "outputs": [],
   "source": [
    "import plotly\n",
    "from plotly import tools\n",
    "import plotly.graph_objs as go\n",
    "\n",
    "def plot_regression_and_rss(scatter_trace, regression_traces, rss_calc_trace):\n",
    "    fig = tools.make_subplots(rows=1, cols=2)\n",
    "    for reg_trace in regression_traces:\n",
    "        fig.append_trace(reg_trace, 1, 1)\n",
    "    fig.append_trace(scatter_trace, 1, 1)\n",
    "    fig.append_trace(rss_calc_trace, 1, 2)\n",
    "    plotly.offline.iplot(fig)"
   ]
  },
  {
   "cell_type": "code",
   "execution_count": 94,
   "metadata": {},
   "outputs": [
    {
     "name": "stdout",
     "output_type": "stream",
     "text": [
      "This is the format of your plot grid:\n",
      "[ (1,1) x1,y1 ]  [ (1,2) x2,y2 ]\n",
      "\n"
     ]
    },
    {
     "data": {
      "application/vnd.plotly.v1+json": {
       "data": [
        {
         "mode": "line",
         "name": "m:1.7b: 100000",
         "type": "scatter",
         "x": [
          13000000,
          45658735,
          20000000,
          61000000,
          40000000,
          225000000,
          92000000,
          12000000,
          13000000,
          130000000,
          40000000,
          25000000,
          50000000,
          18000000,
          55000000,
          30000000,
          78000000,
          76000000,
          5500000,
          120000000,
          110000000,
          100000000,
          40000000,
          70000000,
          17000000,
          160000000,
          150000000,
          140000000,
          60000000,
          30000000
         ],
         "xaxis": "x1",
         "y": [
          22200000,
          77719849.5,
          34100000,
          103800000,
          68100000,
          382600000,
          156500000,
          20500000,
          22200000,
          221100000,
          68100000,
          42600000,
          85100000,
          30700000,
          93600000,
          51100000,
          132700000,
          129300000,
          9450000,
          204100000,
          187100000,
          170100000,
          68100000,
          119100000,
          29000000,
          272100000,
          255100000,
          238100000,
          102100000,
          51100000
         ],
         "yaxis": "y1"
        },
        {
         "mode": "line",
         "name": "m:1.9b: 200000",
         "type": "scatter",
         "x": [
          13000000,
          45658735,
          20000000,
          61000000,
          40000000,
          225000000,
          92000000,
          12000000,
          13000000,
          130000000,
          40000000,
          25000000,
          50000000,
          18000000,
          55000000,
          30000000,
          78000000,
          76000000,
          5500000,
          120000000,
          110000000,
          100000000,
          40000000,
          70000000,
          17000000,
          160000000,
          150000000,
          140000000,
          60000000,
          30000000
         ],
         "xaxis": "x1",
         "y": [
          24900000,
          86951596.5,
          38200000,
          116100000,
          76200000,
          427700000,
          175000000,
          23000000,
          24900000,
          247200000,
          76200000,
          47700000,
          95200000,
          34400000,
          104700000,
          57200000,
          148400000,
          144600000,
          10650000,
          228200000,
          209200000,
          190200000,
          76200000,
          133200000,
          32500000,
          304200000,
          285200000,
          266200000,
          114200000,
          57200000
         ],
         "yaxis": "y1"
        },
        {
         "mode": "markers",
         "name": "movie data",
         "text": [
          "21 &amp; Over",
          "Dredd 3D",
          "12 Years a Slave",
          "2 Guns",
          "42",
          "47 Ronin",
          "A Good Day to Die Hard",
          "About Time",
          "Admission",
          "After Earth",
          "American Hustle",
          "August: Osage County",
          "Beautiful Creatures",
          "Blue Jasmine",
          "Captain Phillips",
          "Carrie",
          "Cloudy with a Chance of Meatballs 2",
          "Despicable Me 2",
          "Don Jon",
          "Elysium",
          "Ender&#39;s Game",
          "Epic",
          "Escape from Planet Earth",
          "Escape Plan",
          "Evil Dead",
          "Fast and Furious 6",
          "Frozen",
          "G.I. Joe: Retaliation",
          "Gangster Squad",
          "Gloria"
         ],
         "type": "scatter",
         "x": [
          13000000,
          45658735,
          20000000,
          61000000,
          40000000,
          225000000,
          92000000,
          12000000,
          13000000,
          130000000,
          40000000,
          25000000,
          50000000,
          18000000,
          55000000,
          30000000,
          78000000,
          76000000,
          5500000,
          120000000,
          110000000,
          100000000,
          40000000,
          70000000,
          17000000,
          160000000,
          150000000,
          140000000,
          60000000,
          30000000
         ],
         "xaxis": "x1",
         "y": [
          25682380,
          13414714,
          53107035,
          75612460,
          95020213,
          38362475,
          67349198,
          15323921,
          18007317,
          60522097,
          148430908,
          37304874,
          19452138,
          33345833,
          107136417,
          35266619,
          119640264,
          368065385,
          24477704,
          93050117,
          61737191,
          107518682,
          57012977,
          25213103,
          54239856,
          238679850,
          393050114,
          122523060,
          46000903,
          4167493
         ],
         "yaxis": "y1"
        },
        {
         "type": "bar",
         "x": [
          "m: 1.7 b: 100000",
          "m: 1.9 b: 200000"
         ],
         "xaxis": "x2",
         "y": [
          18265076,
          20121368
         ],
         "yaxis": "y2"
        }
       ],
       "layout": {
        "xaxis1": {
         "anchor": "y1",
         "domain": [
          0,
          0.45
         ]
        },
        "xaxis2": {
         "anchor": "y2",
         "domain": [
          0.55,
          1
         ]
        },
        "yaxis1": {
         "anchor": "x1",
         "domain": [
          0,
          1
         ]
        },
        "yaxis2": {
         "anchor": "x2",
         "domain": [
          0,
          1
         ]
        }
       }
      },
      "text/html": [
       "<div id=\"5cd1d8af-5465-42db-9666-384a653f53ba\" style=\"height: 525px; width: 100%;\" class=\"plotly-graph-div\"></div><script type=\"text/javascript\">require([\"plotly\"], function(Plotly) { window.PLOTLYENV=window.PLOTLYENV || {};window.PLOTLYENV.BASE_URL=\"https://plot.ly\";Plotly.newPlot(\"5cd1d8af-5465-42db-9666-384a653f53ba\", [{\"type\": \"scatter\", \"x\": [13000000, 45658735, 20000000, 61000000, 40000000, 225000000, 92000000, 12000000, 13000000, 130000000, 40000000, 25000000, 50000000, 18000000, 55000000, 30000000, 78000000, 76000000, 5500000, 120000000, 110000000, 100000000, 40000000, 70000000, 17000000, 160000000, 150000000, 140000000, 60000000, 30000000], \"y\": [22200000.0, 77719849.5, 34100000.0, 103800000.0, 68100000.0, 382600000.0, 156500000.0, 20500000.0, 22200000.0, 221100000.0, 68100000.0, 42600000.0, 85100000.0, 30700000.0, 93600000.0, 51100000.0, 132700000.0, 129300000.0, 9450000.0, 204100000.0, 187100000.0, 170100000.0, 68100000.0, 119100000.0, 29000000.0, 272100000.0, 255100000.0, 238100000.0, 102100000.0, 51100000.0], \"mode\": \"line\", \"name\": \"m:1.7b: 100000\", \"xaxis\": \"x1\", \"yaxis\": \"y1\"}, {\"type\": \"scatter\", \"x\": [13000000, 45658735, 20000000, 61000000, 40000000, 225000000, 92000000, 12000000, 13000000, 130000000, 40000000, 25000000, 50000000, 18000000, 55000000, 30000000, 78000000, 76000000, 5500000, 120000000, 110000000, 100000000, 40000000, 70000000, 17000000, 160000000, 150000000, 140000000, 60000000, 30000000], \"y\": [24900000.0, 86951596.5, 38200000.0, 116100000.0, 76200000.0, 427700000.0, 175000000.0, 23000000.0, 24900000.0, 247200000.0, 76200000.0, 47700000.0, 95200000.0, 34400000.0, 104700000.0, 57200000.0, 148400000.0, 144600000.0, 10650000.0, 228200000.0, 209200000.0, 190200000.0, 76200000.0, 133200000.0, 32500000.0, 304200000.0, 285200000.0, 266200000.0, 114200000.0, 57200000.0], \"mode\": \"line\", \"name\": \"m:1.9b: 200000\", \"xaxis\": \"x1\", \"yaxis\": \"y1\"}, {\"type\": \"scatter\", \"x\": [13000000, 45658735, 20000000, 61000000, 40000000, 225000000, 92000000, 12000000, 13000000, 130000000, 40000000, 25000000, 50000000, 18000000, 55000000, 30000000, 78000000, 76000000, 5500000, 120000000, 110000000, 100000000, 40000000, 70000000, 17000000, 160000000, 150000000, 140000000, 60000000, 30000000], \"y\": [25682380.0, 13414714.0, 53107035.0, 75612460.0, 95020213.0, 38362475.0, 67349198.0, 15323921.0, 18007317.0, 60522097.0, 148430908.0, 37304874.0, 19452138.0, 33345833.0, 107136417.0, 35266619.0, 119640264.0, 368065385.0, 24477704.0, 93050117.0, 61737191.0, 107518682.0, 57012977.0, 25213103.0, 54239856.0, 238679850.0, 393050114.0, 122523060.0, 46000903.0, 4167493.0], \"mode\": \"markers\", \"name\": \"movie data\", \"text\": [\"21 &amp; Over\", \"Dredd 3D\", \"12 Years a Slave\", \"2 Guns\", \"42\", \"47 Ronin\", \"A Good Day to Die Hard\", \"About Time\", \"Admission\", \"After Earth\", \"American Hustle\", \"August: Osage County\", \"Beautiful Creatures\", \"Blue Jasmine\", \"Captain Phillips\", \"Carrie\", \"Cloudy with a Chance of Meatballs 2\", \"Despicable Me 2\", \"Don Jon\", \"Elysium\", \"Ender&#39;s Game\", \"Epic\", \"Escape from Planet Earth\", \"Escape Plan\", \"Evil Dead\", \"Fast and Furious 6\", \"Frozen\", \"G.I. Joe: Retaliation\", \"Gangster Squad\", \"Gloria\"], \"xaxis\": \"x1\", \"yaxis\": \"y1\"}, {\"type\": \"bar\", \"x\": [\"m: 1.7 b: 100000\", \"m: 1.9 b: 200000\"], \"y\": [18265076.0, 20121368.0], \"xaxis\": \"x2\", \"yaxis\": \"y2\"}], {\"xaxis1\": {\"domain\": [0.0, 0.45], \"anchor\": \"y1\"}, \"yaxis1\": {\"domain\": [0.0, 1.0], \"anchor\": \"x1\"}, \"xaxis2\": {\"domain\": [0.55, 1.0], \"anchor\": \"y2\"}, \"yaxis2\": {\"domain\": [0.0, 1.0], \"anchor\": \"x2\"}}, {\"showLink\": true, \"linkText\": \"Export to plot.ly\"})});</script>"
      ],
      "text/vnd.plotly.v1+html": [
       "<div id=\"5cd1d8af-5465-42db-9666-384a653f53ba\" style=\"height: 525px; width: 100%;\" class=\"plotly-graph-div\"></div><script type=\"text/javascript\">require([\"plotly\"], function(Plotly) { window.PLOTLYENV=window.PLOTLYENV || {};window.PLOTLYENV.BASE_URL=\"https://plot.ly\";Plotly.newPlot(\"5cd1d8af-5465-42db-9666-384a653f53ba\", [{\"type\": \"scatter\", \"x\": [13000000, 45658735, 20000000, 61000000, 40000000, 225000000, 92000000, 12000000, 13000000, 130000000, 40000000, 25000000, 50000000, 18000000, 55000000, 30000000, 78000000, 76000000, 5500000, 120000000, 110000000, 100000000, 40000000, 70000000, 17000000, 160000000, 150000000, 140000000, 60000000, 30000000], \"y\": [22200000.0, 77719849.5, 34100000.0, 103800000.0, 68100000.0, 382600000.0, 156500000.0, 20500000.0, 22200000.0, 221100000.0, 68100000.0, 42600000.0, 85100000.0, 30700000.0, 93600000.0, 51100000.0, 132700000.0, 129300000.0, 9450000.0, 204100000.0, 187100000.0, 170100000.0, 68100000.0, 119100000.0, 29000000.0, 272100000.0, 255100000.0, 238100000.0, 102100000.0, 51100000.0], \"mode\": \"line\", \"name\": \"m:1.7b: 100000\", \"xaxis\": \"x1\", \"yaxis\": \"y1\"}, {\"type\": \"scatter\", \"x\": [13000000, 45658735, 20000000, 61000000, 40000000, 225000000, 92000000, 12000000, 13000000, 130000000, 40000000, 25000000, 50000000, 18000000, 55000000, 30000000, 78000000, 76000000, 5500000, 120000000, 110000000, 100000000, 40000000, 70000000, 17000000, 160000000, 150000000, 140000000, 60000000, 30000000], \"y\": [24900000.0, 86951596.5, 38200000.0, 116100000.0, 76200000.0, 427700000.0, 175000000.0, 23000000.0, 24900000.0, 247200000.0, 76200000.0, 47700000.0, 95200000.0, 34400000.0, 104700000.0, 57200000.0, 148400000.0, 144600000.0, 10650000.0, 228200000.0, 209200000.0, 190200000.0, 76200000.0, 133200000.0, 32500000.0, 304200000.0, 285200000.0, 266200000.0, 114200000.0, 57200000.0], \"mode\": \"line\", \"name\": \"m:1.9b: 200000\", \"xaxis\": \"x1\", \"yaxis\": \"y1\"}, {\"type\": \"scatter\", \"x\": [13000000, 45658735, 20000000, 61000000, 40000000, 225000000, 92000000, 12000000, 13000000, 130000000, 40000000, 25000000, 50000000, 18000000, 55000000, 30000000, 78000000, 76000000, 5500000, 120000000, 110000000, 100000000, 40000000, 70000000, 17000000, 160000000, 150000000, 140000000, 60000000, 30000000], \"y\": [25682380.0, 13414714.0, 53107035.0, 75612460.0, 95020213.0, 38362475.0, 67349198.0, 15323921.0, 18007317.0, 60522097.0, 148430908.0, 37304874.0, 19452138.0, 33345833.0, 107136417.0, 35266619.0, 119640264.0, 368065385.0, 24477704.0, 93050117.0, 61737191.0, 107518682.0, 57012977.0, 25213103.0, 54239856.0, 238679850.0, 393050114.0, 122523060.0, 46000903.0, 4167493.0], \"mode\": \"markers\", \"name\": \"movie data\", \"text\": [\"21 &amp; Over\", \"Dredd 3D\", \"12 Years a Slave\", \"2 Guns\", \"42\", \"47 Ronin\", \"A Good Day to Die Hard\", \"About Time\", \"Admission\", \"After Earth\", \"American Hustle\", \"August: Osage County\", \"Beautiful Creatures\", \"Blue Jasmine\", \"Captain Phillips\", \"Carrie\", \"Cloudy with a Chance of Meatballs 2\", \"Despicable Me 2\", \"Don Jon\", \"Elysium\", \"Ender&#39;s Game\", \"Epic\", \"Escape from Planet Earth\", \"Escape Plan\", \"Evil Dead\", \"Fast and Furious 6\", \"Frozen\", \"G.I. Joe: Retaliation\", \"Gangster Squad\", \"Gloria\"], \"xaxis\": \"x1\", \"yaxis\": \"y1\"}, {\"type\": \"bar\", \"x\": [\"m: 1.7 b: 100000\", \"m: 1.9 b: 200000\"], \"y\": [18265076.0, 20121368.0], \"xaxis\": \"x2\", \"yaxis\": \"y2\"}], {\"xaxis1\": {\"domain\": [0.0, 0.45], \"anchor\": \"y1\"}, \"yaxis1\": {\"domain\": [0.0, 1.0], \"anchor\": \"x1\"}, \"xaxis2\": {\"domain\": [0.55, 1.0], \"anchor\": \"y2\"}, \"yaxis2\": {\"domain\": [0.0, 1.0], \"anchor\": \"x2\"}}, {\"showLink\": true, \"linkText\": \"Export to plot.ly\"})});</script>"
      ]
     },
     "metadata": {},
     "output_type": "display_data"
    }
   ],
   "source": [
    "\n",
    "### add more regression lines here, by adding new elements to the list\n",
    "regression_lines = [(1.7, 100000), (1.9, 200000)]\n",
    "\n",
    "regression_traces = list(map(lambda line: m_b_trace(line[0], line[1], x_values, name='m:' + str(line[0]) + 'b: ' + str(line[1])), regression_lines))\n",
    "\n",
    "scatter_trace = trace_values(x_values, y_values, text=titles, name='movie data')\n",
    "rmse_calc_trace = trace_rmse(x_values, y_values, regression_lines)\n",
    "\n",
    "plot_regression_and_rss(scatter_trace, regression_traces, rmse_calc_trace)"
   ]
  }
 ],
 "metadata": {
  "kernelspec": {
   "display_name": "Python 3",
   "language": "python",
   "name": "python3"
  },
  "language_info": {
   "codemirror_mode": {
    "name": "ipython",
    "version": 3
   },
   "file_extension": ".py",
   "mimetype": "text/x-python",
   "name": "python",
   "nbconvert_exporter": "python",
   "pygments_lexer": "ipython3",
   "version": "3.6.1"
  }
 },
 "nbformat": 4,
 "nbformat_minor": 2
}
